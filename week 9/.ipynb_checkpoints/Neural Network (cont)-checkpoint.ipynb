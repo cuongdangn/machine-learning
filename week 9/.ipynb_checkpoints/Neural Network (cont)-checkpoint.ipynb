{
 "cells": [
  {
   "cell_type": "markdown",
   "metadata": {},
   "source": [
    "# Neural Network (cont)\n",
    "Trong bài học trước, chúng ta đã làm quen với các bước cơ bản trong xây dựng mạng nơ-ron với thư viện <b>Keras</b>. Trong bài tập tuần này, chúng ta sẽ tiếp tục làm quen với các phương pháp để tối ưu hóa mạng nơ-ron."
   ]
  },
  {
   "cell_type": "markdown",
   "metadata": {},
   "source": [
    "# Import dữ liệu"
   ]
  },
  {
   "cell_type": "code",
   "execution_count": null,
   "metadata": {
    "collapsed": true
   },
   "outputs": [],
   "source": [
    "# Import một số thư viện cần thiết.\n",
    "import random\n",
    "import numpy as np\n",
    "import matplotlib.pyplot as plt\n",
    "import keras\n",
    "\n",
    "# Sử dụng một mẹo nhỏ để vẽ hình trên cùng một dòng thay vì mở cửa sổ mới\n",
    "%matplotlib inline\n",
    "plt.rcParams['figure.figsize'] = (10.0, 8.0) # đặt kích thước mặc định cho hình\n",
    "plt.rcParams['image.interpolation'] = 'nearest'\n",
    "plt.rcParams['image.cmap'] = 'gray'\n",
    "\n",
    "# Một mẹo nhỏ để notebook tự load lại các module bên ngoài;\n",
    "# xem thêm tại http://stackoverflow.com/questions/1907993/autoreload-of-modules-in-ipython\n",
    "%load_ext autoreload\n",
    "%autoreload 2"
   ]
  },
  {
   "cell_type": "code",
   "execution_count": null,
   "metadata": {
    "collapsed": true
   },
   "outputs": [],
   "source": [
    "# Tải dữ liệu Cifar10 từ Keras và chia thành dữ liệu huấn luyện và kiểm tra.\n",
    "from keras.datasets import cifar10\n",
    "\n",
    "# Dũ liệu CIFAR10 gồm 50,000 ảnh màu kích thước 32x32 để huấn luyện, gồm 10 chuyên mục, và 10,000 ảnh kiểm tra.\n",
    "(X_train, y_train), (X_test, y_test) = cifar10.load_data()\n",
    "\n",
    "# As a sanity check, we print out the size of the training and test data.\n",
    "print('Training data shape: ', X_train.shape)\n",
    "print('Training labels shape: ', y_train.shape)\n",
    "print('Test data shape: ', X_test.shape)\n",
    "print('Test labels shape: ', y_test.shape)"
   ]
  },
  {
   "cell_type": "code",
   "execution_count": null,
   "metadata": {
    "collapsed": true
   },
   "outputs": [],
   "source": [
    "# Hiển thị một số ảnh từ trong bộ dữ liệu.\n",
    "# Với mỗi lớp, chúng ta sẽ hiển thị một số ảnh minh họa.\n",
    "classes = ['plane', 'car', 'bird', 'cat', 'deer', 'dog', 'frog', 'horse', 'ship', 'truck']\n",
    "num_classes = len(classes)\n",
    "samples_per_class = 7\n",
    "for y, cls in enumerate(classes):\n",
    "    idxs = np.flatnonzero(y_train == y)\n",
    "    idxs = np.random.choice(idxs, samples_per_class, replace=False)\n",
    "    for i, idx in enumerate(idxs):\n",
    "        plt_idx = i * num_classes + y + 1\n",
    "        plt.subplot(samples_per_class, num_classes, plt_idx)\n",
    "        plt.imshow(X_train[idx].astype('uint8'))\n",
    "        plt.axis('off')\n",
    "        if i == 0:\n",
    "            plt.title(cls)\n",
    "plt.show()"
   ]
  },
  {
   "cell_type": "code",
   "execution_count": null,
   "metadata": {
    "collapsed": true
   },
   "outputs": [],
   "source": [
    "# Lấy 1 phần nhỏ dữ liệu để huấn luyện hiệu quả hơn trong bài tập này\n",
    "num_training = 5000\n",
    "mask = range(num_training)\n",
    "X_train = X_train[mask]\n",
    "y_train = y_train[mask]\n",
    "\n",
    "num_test = 500\n",
    "mask = range(num_test)\n",
    "X_test = X_test[mask]\n",
    "y_test = y_test[mask]"
   ]
  },
  {
   "cell_type": "code",
   "execution_count": null,
   "metadata": {
    "collapsed": true
   },
   "outputs": [],
   "source": [
    "# # Định dạng lại hình ảnh thành các hàng\n",
    "X_train = np.reshape(X_train, (X_train.shape[0], -1))\n",
    "X_test = np.reshape(X_test, (X_test.shape[0], -1))\n",
    "print(X_train.shape, X_test.shape)"
   ]
  },
  {
   "cell_type": "markdown",
   "metadata": {},
   "source": [
    "# Xây dựng mô hình với Keras\n",
    "\n",
    "Như đã học tuần trước, để xây dựng mô hình mạng nơ-ron với `Keras`, ta có thể sử dụng hai phương pháp:\n",
    "- Xây dựng mô hình tuần tự\n",
    "- Xây dựng API chức năng \n",
    "\n",
    "**Bài tập:** Sử dụng API chức năng để xây dựng mô hình có cấu trúc như mô tả sau:\n",
    "- Tầng đầu vào nhận input là ảnh CIFAR10, hàm kích hoạt là relu, units=2048\n",
    "- Tầng ẩn thứ nhất: đầu ra có số chiều là 2048, hàm kích hoạt là relu\n",
    "- Tầng ẩn thứ hai: đầu ra có số chiều là 1024, hàm kích hoạt là tanh\n",
    "- Tầng ẩn thứ ba: đầu ra có số chiều là 256, hàm kích hoạt là tanh"
   ]
  },
  {
   "cell_type": "code",
   "execution_count": null,
   "metadata": {
    "collapsed": true
   },
   "outputs": [],
   "source": [
    "# import các class cần thiết từ thư viện Keras\n",
    "from keras.layers import Input\n",
    "from keras.models import Model\n",
    "from keras.layers import Dense\n",
    "from keras.layers import Activation\n",
    "\n",
    "# khởi tạo mô hình có tầng đầu vào với biến inputs\n",
    "inputs = None\n",
    "\n",
    "# Trong phần dưới đây, bổ sung cấu trúc của các tầng ẩn kế tiếp\n",
    "first_hid_layer = None\n",
    "second_hid_layer = None\n",
    "third_hid_layer = None"
   ]
  },
  {
   "cell_type": "markdown",
   "metadata": {},
   "source": [
    "## Max pooling\n",
    "Max pooling là một quy trình lấy đại diện dựa trên mẫu. Mục tiêu là lấy mẫu đại diện đầu vào (hình ảnh, ma trận đầu ra của lớp ẩn,...), giảm chiều kích của nó và tránh trường hợp quá khớp của mô hình.\n",
    "\n",
    "Max-pooling áp dụng bộ lọc kích thước `n x n` và giữ lại giá trị lớn nhất trong mỗi lưới lọc.\n",
    "<img src=\"max-pooling.jpg\">\n",
    "\n",
    "Trong `Keras`, ta sử dụng hàm các hàm <b>MaxPooling</b> với một số tham số quan trọng:\n",
    "- <b>pool_size</b>: kích thước của cửa sổ lọc max pooling (kiểu nguyên)\n",
    "- <b>strides</b>: độ dịch của cửa sổ lọc (kiểu nguyên hoặc None)\n",
    "- <b>padding</b>: nhận giá trị `valid` hoặc `same`\n",
    "\n",
    "Đọc thêm về lớp Pooling tại [đây](https://keras.io/layers/pooling/)\n",
    "\n",
    "**Bài tập:** Thêm lớp MaxPooling vào cuối tầng ẩn thứ ba với kích thước cửa sổ lọc là 3."
   ]
  },
  {
   "cell_type": "code",
   "execution_count": null,
   "metadata": {
    "collapsed": true
   },
   "outputs": [],
   "source": [
    "from keras.layers import MaxPooling1D\n",
    "\n",
    "# Với mô hình đã xây dựng ở trên, ta thêm một lớp pooling vào cuối\n",
    "max_pool = None"
   ]
  },
  {
   "cell_type": "markdown",
   "metadata": {},
   "source": [
    "## Dropout\n",
    "\n",
    "Mục đích của dropout là để giảm số đặc trưng của dữ liệu, tránh overfit.\n",
    "\n",
    "Trong `Keras`, dropout được cài đặt trong class <b>Dropout</b> với tham số quan trọng nhất là `rate` là một số thực trong khoảng [0,1] là tỉ lệ drop của input.\n",
    "<img src=\"drop.png\">\n",
    "\n",
    "**Bài tập:** Thêm lớp Dropout vào dưới lớp cuối cùng với tỉ lệ drop là 0.4."
   ]
  },
  {
   "cell_type": "code",
   "execution_count": null,
   "metadata": {
    "collapsed": true
   },
   "outputs": [],
   "source": [
    "from keras.layers import Dropout\n",
    "\n",
    "# Thêm lớp dropout vào sau lớp pooling\n",
    "dropout = None\n",
    "\n",
    "# Với cấu trúc mô hình ở trên, ta biên dịch mô hình\n",
    "# tầng đầu ra có số chiều bằng class với hàm kích hoạt Softmax\n",
    "predictions = Dense(units=num_classes, activation=\"softmax\")(dropout)\n",
    "api_model = Model(inputs=inputs, outputs=predictions)\n",
    "\n",
    "api_model.compile(optimizer='rmsprop',\n",
    "              loss='mse',\n",
    "              metrics=['accuracy'])"
   ]
  },
  {
   "cell_type": "markdown",
   "metadata": {},
   "source": [
    "## Batch Norm\n",
    "\n",
    "Cuối cùng, khi huấn luyện mô hình, để tăng tốc độ huấn luyện và khả năng hội tụ của mô hình, <b>Batch norm</b> là một kỹ thuật không thể bỏ qua."
   ]
  },
  {
   "cell_type": "code",
   "execution_count": null,
   "metadata": {
    "collapsed": true
   },
   "outputs": [],
   "source": [
    "# Huấn luyện mô hình với tham số batch_size bằng 32\n",
    "api_nodel.fit(X_train, y_train, epochs=100, batch_size=32)"
   ]
  },
  {
   "cell_type": "markdown",
   "metadata": {},
   "source": [
    "** Bài tập: ** Chọn ra kích thước `batch_size` tối ưu để mô hình đạt hiệu năng tốt nhất."
   ]
  },
  {
   "cell_type": "code",
   "execution_count": 1,
   "metadata": {},
   "outputs": [
    {
     "name": "stderr",
     "output_type": "stream",
     "text": [
      "Using TensorFlow backend.\n"
     ]
    },
    {
     "ename": "NameError",
     "evalue": "name 'cifar10' is not defined",
     "output_type": "error",
     "traceback": [
      "\u001b[1;31m---------------------------------------------------------------------------\u001b[0m",
      "\u001b[1;31mNameError\u001b[0m                                 Traceback (most recent call last)",
      "\u001b[1;32m<ipython-input-1-93b0fe54445d>\u001b[0m in \u001b[0;36m<module>\u001b[1;34m()\u001b[0m\n\u001b[0;32m      8\u001b[0m \u001b[1;32mfrom\u001b[0m \u001b[0mkeras\u001b[0m\u001b[1;33m.\u001b[0m\u001b[0mlayers\u001b[0m \u001b[1;32mimport\u001b[0m  \u001b[0mConvolution2D\u001b[0m \u001b[1;32mas\u001b[0m \u001b[0mConv2D\u001b[0m\u001b[1;33m\u001b[0m\u001b[0m\n\u001b[0;32m      9\u001b[0m \u001b[1;33m\u001b[0m\u001b[0m\n\u001b[1;32m---> 10\u001b[1;33m \u001b[1;33m(\u001b[0m\u001b[0mX_train\u001b[0m\u001b[1;33m,\u001b[0m \u001b[0my_train\u001b[0m\u001b[1;33m)\u001b[0m\u001b[1;33m,\u001b[0m \u001b[1;33m(\u001b[0m\u001b[0mX_test\u001b[0m\u001b[1;33m,\u001b[0m \u001b[0my_test\u001b[0m\u001b[1;33m)\u001b[0m \u001b[1;33m=\u001b[0m \u001b[0mcifar10\u001b[0m\u001b[1;33m.\u001b[0m\u001b[0mload_data\u001b[0m\u001b[1;33m(\u001b[0m\u001b[1;33m)\u001b[0m\u001b[1;33m\u001b[0m\u001b[0m\n\u001b[0m\u001b[0;32m     11\u001b[0m \u001b[1;33m\u001b[0m\u001b[0m\n\u001b[0;32m     12\u001b[0m \u001b[0mnum_training\u001b[0m \u001b[1;33m=\u001b[0m \u001b[1;36m10000\u001b[0m\u001b[1;33m\u001b[0m\u001b[0m\n",
      "\u001b[1;31mNameError\u001b[0m: name 'cifar10' is not defined"
     ]
    }
   ],
   "source": [
    "# x = Dense(64, activation=\"sigmoid\")(inputs)\n",
    "# x = Dense(32, activation= \"softmax\")(x)\n",
    "# predictions = Dense(1)(x)\n",
    "\n",
    "# my_model = Model(inputs=inputs, outputs=predictions)\n",
    "from keras.layers import  MaxPooling2D\n",
    "from keras.layers import Dense, Dropout, Activation, Flatten\n",
    "from keras.layers import  Convolution2D as Conv2D\n",
    "\n",
    "(X_train, y_train), (X_test, y_test) = cifar10.load_data()\n",
    "\n",
    "num_training = 10000\n",
    "mask = range(num_training)\n",
    "X_train = X_train[mask]\n",
    "y_train = y_train[mask]\n",
    "\n",
    "num_test = 2000\n",
    "mask = range(num_test)\n",
    "X_test = X_test[mask]\n",
    "y_test = y_test[mask]\n",
    "\n",
    "input_shape = X_train.shape\n",
    "\n",
    "model = Sequential()\n",
    "model.add(Conv2D(32, kernel_size=(3, 3),\n",
    "                 input_shape=(32,32,3)))\n",
    "model.add(Activation('relu'))\n",
    "model.add(Conv2D(32,(3, 3)))\n",
    "model.add(Activation('relu'))\n",
    "model.add(MaxPooling2D(pool_size=(2, 2)))\n",
    "\n",
    "\n",
    "model.add(Conv2D(64, (3, 3)))\n",
    "model.add(Activation('relu'))\n",
    "\n",
    "model.add(Conv2D(64, (3, 3)))\n",
    "model.add(Activation('relu'))\n",
    "model.add(MaxPooling2D(pool_size=(2, 2)))\n",
    "\n",
    "model.add(Flatten())\n",
    "model.add(Dense(128))\n",
    "model.add(Activation('relu'))\n",
    "model.add(Dropout(0.25))   #reducing overfitting\n",
    "model.add(Dense(1))\n",
    "\n",
    "\n",
    "\n",
    "model.compile(optimizer='SGD',\n",
    "              loss='mse',\n",
    "              metrics=['accuracy'])\n",
    "\n",
    "\n",
    "history = model.fit(X_train, y_train, epochs=100, batch_size=64,validation_data=(X_test, y_test))\n",
    "\n",
    "plt.plot(history.history['loss'])\n",
    "plt.title(\"Loss value\")\n",
    "plt.xlabel(\"Epochs\")\n",
    "plt.ylabel(\"Value\")\n",
    "plt.legend(['loss'], loc='upper left')\n",
    "plt.show()\n",
    "\n"
   ]
  },
  {
   "cell_type": "markdown",
   "metadata": {},
   "source": [
    "*Áp dụng các phương pháp trên để tối ưu mô hình trong bài tập lớn.*"
   ]
  }
 ],
 "metadata": {
  "kernelspec": {
   "display_name": "Python 3",
   "language": "python",
   "name": "python3"
  },
  "language_info": {
   "codemirror_mode": {
    "name": "ipython",
    "version": 3
   },
   "file_extension": ".py",
   "mimetype": "text/x-python",
   "name": "python",
   "nbconvert_exporter": "python",
   "pygments_lexer": "ipython3",
   "version": "3.6.3"
  }
 },
 "nbformat": 4,
 "nbformat_minor": 2
}
